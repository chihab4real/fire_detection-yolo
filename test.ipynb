{
 "cells": [
  {
   "cell_type": "markdown",
   "id": "34275a67",
   "metadata": {},
   "source": [
    "### Improting the necessary libraris"
   ]
  },
  {
   "cell_type": "code",
   "execution_count": null,
   "id": "abe0d7c0",
   "metadata": {},
   "outputs": [],
   "source": [
    "import cv2\n",
    "from ultralytics import YOLO"
   ]
  },
  {
   "cell_type": "markdown",
   "id": "4665cd0b",
   "metadata": {},
   "source": [
    "Load trained model"
   ]
  },
  {
   "cell_type": "code",
   "execution_count": null,
   "id": "477a5b37",
   "metadata": {},
   "outputs": [],
   "source": [
    "model = YOLO('models/best.pt')"
   ]
  },
  {
   "cell_type": "markdown",
   "id": "ac356884",
   "metadata": {},
   "source": [
    "### 1. Webcam"
   ]
  },
  {
   "cell_type": "code",
   "execution_count": null,
   "id": "bd0da88c",
   "metadata": {},
   "outputs": [],
   "source": [
    "cap = cv2.VideoCapture(0) \n",
    "\n",
    "while True:\n",
    "    ret, frame = cap.read()\n",
    "    if not ret:\n",
    "        break\n",
    "\n",
    "\n",
    "    results = model(frame)[0]\n",
    "\n",
    "\n",
    "    annotated_frame = results.plot()\n",
    "\n",
    "\n",
    "    cv2.imshow(\"Fire Detection\", annotated_frame)\n",
    "    if cv2.waitKey(1) & 0xFF == ord(\"q\"):\n",
    "        break\n",
    "\n",
    "cap.release()\n",
    "cv2.destroyAllWindows()\n"
   ]
  },
  {
   "cell_type": "markdown",
   "id": "f771e90c",
   "metadata": {},
   "source": [
    "### 2. Saved Video"
   ]
  },
  {
   "cell_type": "code",
   "execution_count": null,
   "id": "d3db06a6",
   "metadata": {},
   "outputs": [],
   "source": [
    "\n",
    "input_video_path = 'video2.mp4'  \n",
    "output_video_path = 'output_video2.mp4'\n",
    "\n",
    "\n",
    "cap = cv2.VideoCapture(input_video_path)\n",
    "\n",
    "\n",
    "frame_width = int(cap.get(cv2.CAP_PROP_FRAME_WIDTH))\n",
    "frame_height = int(cap.get(cv2.CAP_PROP_FRAME_HEIGHT))\n",
    "fps = int(cap.get(cv2.CAP_PROP_FPS))\n",
    "fourcc = cv2.VideoWriter_fourcc(*'mp4v') \n",
    "\n",
    "\n",
    "out = cv2.VideoWriter(output_video_path, fourcc, fps, (frame_width, frame_height))\n",
    "\n",
    "while True:\n",
    "    ret, frame = cap.read()\n",
    "    if not ret:\n",
    "        break\n",
    "\n",
    "\n",
    "    results = model(frame)[0]\n",
    "\n",
    "  \n",
    "    annotated_frame = results.plot()\n",
    "\n",
    "\n",
    "    out.write(annotated_frame)\n",
    "\n",
    "\n",
    "cap.release()\n",
    "out.release()\n"
   ]
  }
 ],
 "metadata": {
  "kernelspec": {
   "display_name": "Python 3",
   "language": "python",
   "name": "python3"
  },
  "language_info": {
   "codemirror_mode": {
    "name": "ipython",
    "version": 3
   },
   "file_extension": ".py",
   "mimetype": "text/x-python",
   "name": "python",
   "nbconvert_exporter": "python",
   "pygments_lexer": "ipython3",
   "version": "3.11.9"
  }
 },
 "nbformat": 4,
 "nbformat_minor": 5
}
